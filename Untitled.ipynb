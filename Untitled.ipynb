{
 "cells": [
  {
   "cell_type": "code",
   "execution_count": 1,
   "id": "532a8d6e",
   "metadata": {},
   "outputs": [],
   "source": [
    "import pandas as pd\n",
    "from matplotlib import pyplot as mpl\n",
    "import pandas as pd\n",
    "import numpy as np\n",
    "import matplotlib.pyplot as plt\n",
    "import seaborn as sns\n",
    "from sklearn.model_selection import train_test_split\n",
    "from sklearn import metrics\n",
    "import csv\n",
    "import random"
   ]
  },
  {
   "cell_type": "code",
   "execution_count": 2,
   "id": "c1ad7a48",
   "metadata": {},
   "outputs": [
    {
     "data": {
      "text/html": [
       "<div>\n",
       "<style scoped>\n",
       "    .dataframe tbody tr th:only-of-type {\n",
       "        vertical-align: middle;\n",
       "    }\n",
       "\n",
       "    .dataframe tbody tr th {\n",
       "        vertical-align: top;\n",
       "    }\n",
       "\n",
       "    .dataframe thead th {\n",
       "        text-align: right;\n",
       "    }\n",
       "</style>\n",
       "<table border=\"1\" class=\"dataframe\">\n",
       "  <thead>\n",
       "    <tr style=\"text-align: right;\">\n",
       "      <th></th>\n",
       "      <th>Name</th>\n",
       "      <th>Platform</th>\n",
       "      <th>Year</th>\n",
       "      <th>Genre</th>\n",
       "      <th>Publisher</th>\n",
       "      <th>NA_Sales</th>\n",
       "      <th>EU_Sales</th>\n",
       "      <th>JP_Sales</th>\n",
       "      <th>Other_Sales</th>\n",
       "      <th>Global_Sales</th>\n",
       "    </tr>\n",
       "  </thead>\n",
       "  <tbody>\n",
       "    <tr>\n",
       "      <th>0</th>\n",
       "      <td>Wii Sports</td>\n",
       "      <td>Wii</td>\n",
       "      <td>2006.0</td>\n",
       "      <td>Sports</td>\n",
       "      <td>Nintendo</td>\n",
       "      <td>41.49</td>\n",
       "      <td>29.02</td>\n",
       "      <td>3.77</td>\n",
       "      <td>8.46</td>\n",
       "      <td>82.74</td>\n",
       "    </tr>\n",
       "    <tr>\n",
       "      <th>1</th>\n",
       "      <td>Super Mario Bros.</td>\n",
       "      <td>NES</td>\n",
       "      <td>1985.0</td>\n",
       "      <td>Platform</td>\n",
       "      <td>Nintendo</td>\n",
       "      <td>29.08</td>\n",
       "      <td>3.58</td>\n",
       "      <td>6.81</td>\n",
       "      <td>0.77</td>\n",
       "      <td>40.24</td>\n",
       "    </tr>\n",
       "    <tr>\n",
       "      <th>2</th>\n",
       "      <td>Mario Kart Wii</td>\n",
       "      <td>Wii</td>\n",
       "      <td>2008.0</td>\n",
       "      <td>Racing</td>\n",
       "      <td>Nintendo</td>\n",
       "      <td>15.85</td>\n",
       "      <td>12.88</td>\n",
       "      <td>3.79</td>\n",
       "      <td>3.31</td>\n",
       "      <td>35.82</td>\n",
       "    </tr>\n",
       "    <tr>\n",
       "      <th>3</th>\n",
       "      <td>Wii Sports Resort</td>\n",
       "      <td>Wii</td>\n",
       "      <td>2009.0</td>\n",
       "      <td>Sports</td>\n",
       "      <td>Nintendo</td>\n",
       "      <td>15.75</td>\n",
       "      <td>11.01</td>\n",
       "      <td>3.28</td>\n",
       "      <td>2.96</td>\n",
       "      <td>33.00</td>\n",
       "    </tr>\n",
       "    <tr>\n",
       "      <th>4</th>\n",
       "      <td>Pokemon Red/Pokemon Blue</td>\n",
       "      <td>GB</td>\n",
       "      <td>1996.0</td>\n",
       "      <td>Role-Playing</td>\n",
       "      <td>Nintendo</td>\n",
       "      <td>11.27</td>\n",
       "      <td>8.89</td>\n",
       "      <td>10.22</td>\n",
       "      <td>1.00</td>\n",
       "      <td>31.37</td>\n",
       "    </tr>\n",
       "    <tr>\n",
       "      <th>...</th>\n",
       "      <td>...</td>\n",
       "      <td>...</td>\n",
       "      <td>...</td>\n",
       "      <td>...</td>\n",
       "      <td>...</td>\n",
       "      <td>...</td>\n",
       "      <td>...</td>\n",
       "      <td>...</td>\n",
       "      <td>...</td>\n",
       "      <td>...</td>\n",
       "    </tr>\n",
       "    <tr>\n",
       "      <th>16593</th>\n",
       "      <td>Woody Woodpecker in Crazy Castle 5</td>\n",
       "      <td>GBA</td>\n",
       "      <td>2002.0</td>\n",
       "      <td>Platform</td>\n",
       "      <td>Kemco</td>\n",
       "      <td>0.01</td>\n",
       "      <td>0.00</td>\n",
       "      <td>0.00</td>\n",
       "      <td>0.00</td>\n",
       "      <td>0.01</td>\n",
       "    </tr>\n",
       "    <tr>\n",
       "      <th>16594</th>\n",
       "      <td>Men in Black II: Alien Escape</td>\n",
       "      <td>GC</td>\n",
       "      <td>2003.0</td>\n",
       "      <td>Shooter</td>\n",
       "      <td>Infogrames</td>\n",
       "      <td>0.01</td>\n",
       "      <td>0.00</td>\n",
       "      <td>0.00</td>\n",
       "      <td>0.00</td>\n",
       "      <td>0.01</td>\n",
       "    </tr>\n",
       "    <tr>\n",
       "      <th>16595</th>\n",
       "      <td>SCORE International Baja 1000: The Official Game</td>\n",
       "      <td>PS2</td>\n",
       "      <td>2008.0</td>\n",
       "      <td>Racing</td>\n",
       "      <td>Activision</td>\n",
       "      <td>0.00</td>\n",
       "      <td>0.00</td>\n",
       "      <td>0.00</td>\n",
       "      <td>0.00</td>\n",
       "      <td>0.01</td>\n",
       "    </tr>\n",
       "    <tr>\n",
       "      <th>16596</th>\n",
       "      <td>Know How 2</td>\n",
       "      <td>DS</td>\n",
       "      <td>2010.0</td>\n",
       "      <td>Puzzle</td>\n",
       "      <td>7G//AMES</td>\n",
       "      <td>0.00</td>\n",
       "      <td>0.01</td>\n",
       "      <td>0.00</td>\n",
       "      <td>0.00</td>\n",
       "      <td>0.01</td>\n",
       "    </tr>\n",
       "    <tr>\n",
       "      <th>16597</th>\n",
       "      <td>Spirits &amp; Spells</td>\n",
       "      <td>GBA</td>\n",
       "      <td>2003.0</td>\n",
       "      <td>Platform</td>\n",
       "      <td>Wanadoo</td>\n",
       "      <td>0.01</td>\n",
       "      <td>0.00</td>\n",
       "      <td>0.00</td>\n",
       "      <td>0.00</td>\n",
       "      <td>0.01</td>\n",
       "    </tr>\n",
       "  </tbody>\n",
       "</table>\n",
       "<p>16598 rows × 10 columns</p>\n",
       "</div>"
      ],
      "text/plain": [
       "                                                   Name Platform    Year  \\\n",
       "0                                            Wii Sports      Wii  2006.0   \n",
       "1                                     Super Mario Bros.      NES  1985.0   \n",
       "2                                        Mario Kart Wii      Wii  2008.0   \n",
       "3                                     Wii Sports Resort      Wii  2009.0   \n",
       "4                              Pokemon Red/Pokemon Blue       GB  1996.0   \n",
       "...                                                 ...      ...     ...   \n",
       "16593                Woody Woodpecker in Crazy Castle 5      GBA  2002.0   \n",
       "16594                     Men in Black II: Alien Escape       GC  2003.0   \n",
       "16595  SCORE International Baja 1000: The Official Game      PS2  2008.0   \n",
       "16596                                        Know How 2       DS  2010.0   \n",
       "16597                                  Spirits & Spells      GBA  2003.0   \n",
       "\n",
       "              Genre   Publisher  NA_Sales  EU_Sales  JP_Sales  Other_Sales  \\\n",
       "0            Sports    Nintendo     41.49     29.02      3.77         8.46   \n",
       "1          Platform    Nintendo     29.08      3.58      6.81         0.77   \n",
       "2            Racing    Nintendo     15.85     12.88      3.79         3.31   \n",
       "3            Sports    Nintendo     15.75     11.01      3.28         2.96   \n",
       "4      Role-Playing    Nintendo     11.27      8.89     10.22         1.00   \n",
       "...             ...         ...       ...       ...       ...          ...   \n",
       "16593      Platform       Kemco      0.01      0.00      0.00         0.00   \n",
       "16594       Shooter  Infogrames      0.01      0.00      0.00         0.00   \n",
       "16595        Racing  Activision      0.00      0.00      0.00         0.00   \n",
       "16596        Puzzle    7G//AMES      0.00      0.01      0.00         0.00   \n",
       "16597      Platform     Wanadoo      0.01      0.00      0.00         0.00   \n",
       "\n",
       "       Global_Sales  \n",
       "0             82.74  \n",
       "1             40.24  \n",
       "2             35.82  \n",
       "3             33.00  \n",
       "4             31.37  \n",
       "...             ...  \n",
       "16593          0.01  \n",
       "16594          0.01  \n",
       "16595          0.01  \n",
       "16596          0.01  \n",
       "16597          0.01  \n",
       "\n",
       "[16598 rows x 10 columns]"
      ]
     },
     "execution_count": 2,
     "metadata": {},
     "output_type": "execute_result"
    }
   ],
   "source": [
    "vg = pd.read_csv('vgsales.csv')\n",
    "vg.drop('Rank', axis=1 , inplace=True)\n",
    "vg\n"
   ]
  },
  {
   "cell_type": "markdown",
   "id": "fbab0f36",
   "metadata": {},
   "source": [
    "# data informations"
   ]
  },
  {
   "cell_type": "code",
   "execution_count": 3,
   "id": "b1c33add",
   "metadata": {},
   "outputs": [
    {
     "name": "stdout",
     "output_type": "stream",
     "text": [
      "<class 'pandas.core.frame.DataFrame'>\n",
      "RangeIndex: 16598 entries, 0 to 16597\n",
      "Data columns (total 10 columns):\n",
      " #   Column        Non-Null Count  Dtype  \n",
      "---  ------        --------------  -----  \n",
      " 0   Name          16598 non-null  object \n",
      " 1   Platform      16598 non-null  object \n",
      " 2   Year          16327 non-null  float64\n",
      " 3   Genre         16598 non-null  object \n",
      " 4   Publisher     16540 non-null  object \n",
      " 5   NA_Sales      16598 non-null  float64\n",
      " 6   EU_Sales      16598 non-null  float64\n",
      " 7   JP_Sales      16598 non-null  float64\n",
      " 8   Other_Sales   16598 non-null  float64\n",
      " 9   Global_Sales  16598 non-null  float64\n",
      "dtypes: float64(6), object(4)\n",
      "memory usage: 1.3+ MB\n"
     ]
    }
   ],
   "source": [
    "vg.info()"
   ]
  },
  {
   "cell_type": "markdown",
   "id": "7d3bd75e",
   "metadata": {},
   "source": [
    "# data describe "
   ]
  },
  {
   "cell_type": "code",
   "execution_count": 4,
   "id": "bed60b89",
   "metadata": {},
   "outputs": [
    {
     "data": {
      "text/html": [
       "<div>\n",
       "<style scoped>\n",
       "    .dataframe tbody tr th:only-of-type {\n",
       "        vertical-align: middle;\n",
       "    }\n",
       "\n",
       "    .dataframe tbody tr th {\n",
       "        vertical-align: top;\n",
       "    }\n",
       "\n",
       "    .dataframe thead th {\n",
       "        text-align: right;\n",
       "    }\n",
       "</style>\n",
       "<table border=\"1\" class=\"dataframe\">\n",
       "  <thead>\n",
       "    <tr style=\"text-align: right;\">\n",
       "      <th></th>\n",
       "      <th>Year</th>\n",
       "      <th>NA_Sales</th>\n",
       "      <th>EU_Sales</th>\n",
       "      <th>JP_Sales</th>\n",
       "      <th>Other_Sales</th>\n",
       "      <th>Global_Sales</th>\n",
       "    </tr>\n",
       "  </thead>\n",
       "  <tbody>\n",
       "    <tr>\n",
       "      <th>count</th>\n",
       "      <td>16327.000000</td>\n",
       "      <td>16598.000000</td>\n",
       "      <td>16598.000000</td>\n",
       "      <td>16598.000000</td>\n",
       "      <td>16598.000000</td>\n",
       "      <td>16598.000000</td>\n",
       "    </tr>\n",
       "    <tr>\n",
       "      <th>mean</th>\n",
       "      <td>2006.406443</td>\n",
       "      <td>0.264667</td>\n",
       "      <td>0.146652</td>\n",
       "      <td>0.077782</td>\n",
       "      <td>0.048063</td>\n",
       "      <td>0.537441</td>\n",
       "    </tr>\n",
       "    <tr>\n",
       "      <th>std</th>\n",
       "      <td>5.828981</td>\n",
       "      <td>0.816683</td>\n",
       "      <td>0.505351</td>\n",
       "      <td>0.309291</td>\n",
       "      <td>0.188588</td>\n",
       "      <td>1.555028</td>\n",
       "    </tr>\n",
       "    <tr>\n",
       "      <th>min</th>\n",
       "      <td>1980.000000</td>\n",
       "      <td>0.000000</td>\n",
       "      <td>0.000000</td>\n",
       "      <td>0.000000</td>\n",
       "      <td>0.000000</td>\n",
       "      <td>0.010000</td>\n",
       "    </tr>\n",
       "    <tr>\n",
       "      <th>25%</th>\n",
       "      <td>2003.000000</td>\n",
       "      <td>0.000000</td>\n",
       "      <td>0.000000</td>\n",
       "      <td>0.000000</td>\n",
       "      <td>0.000000</td>\n",
       "      <td>0.060000</td>\n",
       "    </tr>\n",
       "    <tr>\n",
       "      <th>50%</th>\n",
       "      <td>2007.000000</td>\n",
       "      <td>0.080000</td>\n",
       "      <td>0.020000</td>\n",
       "      <td>0.000000</td>\n",
       "      <td>0.010000</td>\n",
       "      <td>0.170000</td>\n",
       "    </tr>\n",
       "    <tr>\n",
       "      <th>75%</th>\n",
       "      <td>2010.000000</td>\n",
       "      <td>0.240000</td>\n",
       "      <td>0.110000</td>\n",
       "      <td>0.040000</td>\n",
       "      <td>0.040000</td>\n",
       "      <td>0.470000</td>\n",
       "    </tr>\n",
       "    <tr>\n",
       "      <th>max</th>\n",
       "      <td>2020.000000</td>\n",
       "      <td>41.490000</td>\n",
       "      <td>29.020000</td>\n",
       "      <td>10.220000</td>\n",
       "      <td>10.570000</td>\n",
       "      <td>82.740000</td>\n",
       "    </tr>\n",
       "  </tbody>\n",
       "</table>\n",
       "</div>"
      ],
      "text/plain": [
       "               Year      NA_Sales      EU_Sales      JP_Sales   Other_Sales  \\\n",
       "count  16327.000000  16598.000000  16598.000000  16598.000000  16598.000000   \n",
       "mean    2006.406443      0.264667      0.146652      0.077782      0.048063   \n",
       "std        5.828981      0.816683      0.505351      0.309291      0.188588   \n",
       "min     1980.000000      0.000000      0.000000      0.000000      0.000000   \n",
       "25%     2003.000000      0.000000      0.000000      0.000000      0.000000   \n",
       "50%     2007.000000      0.080000      0.020000      0.000000      0.010000   \n",
       "75%     2010.000000      0.240000      0.110000      0.040000      0.040000   \n",
       "max     2020.000000     41.490000     29.020000     10.220000     10.570000   \n",
       "\n",
       "       Global_Sales  \n",
       "count  16598.000000  \n",
       "mean       0.537441  \n",
       "std        1.555028  \n",
       "min        0.010000  \n",
       "25%        0.060000  \n",
       "50%        0.170000  \n",
       "75%        0.470000  \n",
       "max       82.740000  "
      ]
     },
     "execution_count": 4,
     "metadata": {},
     "output_type": "execute_result"
    }
   ],
   "source": [
    "vg.describe()"
   ]
  },
  {
   "cell_type": "markdown",
   "id": "ce9d769b",
   "metadata": {},
   "source": [
    "# null values"
   ]
  },
  {
   "cell_type": "code",
   "execution_count": 5,
   "id": "b48753af",
   "metadata": {},
   "outputs": [
    {
     "data": {
      "text/plain": [
       "Name              0\n",
       "Platform          0\n",
       "Year            271\n",
       "Genre             0\n",
       "Publisher        58\n",
       "NA_Sales          0\n",
       "EU_Sales          0\n",
       "JP_Sales          0\n",
       "Other_Sales       0\n",
       "Global_Sales      0\n",
       "dtype: int64"
      ]
     },
     "execution_count": 5,
     "metadata": {},
     "output_type": "execute_result"
    }
   ],
   "source": [
    "vg.isnull().sum()"
   ]
  },
  {
   "cell_type": "code",
   "execution_count": 6,
   "id": "8b00a049",
   "metadata": {},
   "outputs": [],
   "source": [
    "vg = vg.dropna()"
   ]
  },
  {
   "cell_type": "code",
   "execution_count": 7,
   "id": "7dcc3ba7",
   "metadata": {},
   "outputs": [
    {
     "data": {
      "text/plain": [
       "Name            0\n",
       "Platform        0\n",
       "Year            0\n",
       "Genre           0\n",
       "Publisher       0\n",
       "NA_Sales        0\n",
       "EU_Sales        0\n",
       "JP_Sales        0\n",
       "Other_Sales     0\n",
       "Global_Sales    0\n",
       "dtype: int64"
      ]
     },
     "execution_count": 7,
     "metadata": {},
     "output_type": "execute_result"
    }
   ],
   "source": [
    "vg.isnull().sum()"
   ]
  },
  {
   "cell_type": "markdown",
   "id": "08644972",
   "metadata": {},
   "source": [
    " # data visualisation\n"
   ]
  },
  {
   "cell_type": "markdown",
   "id": "7d1ffd27",
   "metadata": {},
   "source": [
    "## which publisher has more sales?"
   ]
  },
  {
   "cell_type": "code",
   "execution_count": 8,
   "id": "41cb484d",
   "metadata": {},
   "outputs": [
    {
     "data": {
      "text/plain": [
       "<AxesSubplot:xlabel='Publisher'>"
      ]
     },
     "execution_count": 8,
     "metadata": {},
     "output_type": "execute_result"
    },
    {
     "data": {
      "image/png": "[encoded data removed]",
      "text/plain": [
       "<Figure size 432x288 with 1 Axes>"
      ]
     },
     "metadata": {
      "needs_background": "light"
     },
     "output_type": "display_data"
    }
   ],
   "source": [
    "vg.groupby(\"Publisher\").sum().sort_values(\"Global_Sales\" , ascending = False).head(10).plot.bar(y=\"Global_Sales\")"
   ]
  },
  {
   "cell_type": "markdown",
   "id": "a5cb7a91",
   "metadata": {},
   "source": [
    "## what genre games have been made the most?"
   ]
  },
  {
   "cell_type": "code",
   "execution_count": 9,
   "id": "dcfe6fe2",
   "metadata": {},
   "outputs": [
    {
     "data": {
      "text/plain": [
       "<AxesSubplot:xlabel='Genre'>"
      ]
     },
     "execution_count": 9,
     "metadata": {},
     "output_type": "execute_result"
    },
    {
     "data": {
      "image/png": "[encoded data removed]",
      "text/plain": [
       "<Figure size 432x288 with 1 Axes>"
      ]
     },
     "metadata": {
      "needs_background": "light"
     },
     "output_type": "display_data"
    }
   ],
   "source": [
    "vg.groupby('Genre').sum().sort_values(\"Global_Sales\", ascending = False).head(10).plot.bar(y=\"Global_Sales\")"
   ]
  },
  {
   "cell_type": "markdown",
   "id": "a8f98753",
   "metadata": {},
   "source": [
    "## which year  had the most game release?\n"
   ]
  },
  {
   "cell_type": "code",
   "execution_count": 10,
   "id": "64f10409",
   "metadata": {},
   "outputs": [
    {
     "data": {
      "text/plain": [
       "<AxesSubplot:xlabel='Year'>"
      ]
     },
     "execution_count": 10,
     "metadata": {},
     "output_type": "execute_result"
    },
    {
     "data": {
      "image/png": "[encoded data removed]",
      "text/plain": [
       "<Figure size 432x288 with 1 Axes>"
      ]
     },
     "metadata": {
      "needs_background": "light"
     },
     "output_type": "display_data"
    }
   ],
   "source": [
    "vg.groupby(\"Year\").sum().sort_values(\"Global_Sales\" , ascending = False).head(50).plot.bar(y=\"Global_Sales\")"
   ]
  },
  {
   "cell_type": "markdown",
   "id": "b53e78ca",
   "metadata": {},
   "source": [
    "# which year had the highest sales worldwide?"
   ]
  },
  {
   "cell_type": "code",
   "execution_count": 11,
   "id": "544d033b",
   "metadata": {},
   "outputs": [
    {
     "data": {
      "text/plain": [
       "<AxesSubplot:xlabel='Year'>"
      ]
     },
     "execution_count": 11,
     "metadata": {},
     "output_type": "execute_result"
    },
    {
     "data": {
      "image/png": "[encoded data removed]",
      "text/plain": [
       "<Figure size 432x288 with 1 Axes>"
      ]
     },
     "metadata": {
      "needs_background": "light"
     },
     "output_type": "display_data"
    }
   ],
   "source": [
    "vg_year = vg.groupby(by = [\"Year\"])['Global_Sales'].sum()\n",
    "vg_year = vg_year.reset_index()\n",
    "vg_year.plot.bar(x=\"Year\", y= \"Global_Sales\")"
   ]
  },
  {
   "cell_type": "markdown",
   "id": "c3d3a735",
   "metadata": {},
   "source": [
    "# which genre game have the highest sale price globally"
   ]
  },
  {
   "cell_type": "code",
   "execution_count": 12,
   "id": "ef554a2a",
   "metadata": {},
   "outputs": [
    {
     "data": {
      "image/png": "[encoded data removed]",
      "text/plain": [
       "<Figure size 432x288 with 1 Axes>"
      ]
     },
     "metadata": {
      "needs_background": "light"
     },
     "output_type": "display_data"
    }
   ],
   "source": [
    "vg_genre = vg.groupby(by=[\"Genre\"])[\"Global_Sales\"].sum().reset_index().sort_values(by= [\"Global_Sales\"] , ascending = False).plot.bar(x=\"Genre\", y = \"Global_Sales\")\n"
   ]
  },
  {
   "cell_type": "markdown",
   "id": "b13e2b83",
   "metadata": {},
   "source": [
    "# which Publisher creat the most games"
   ]
  },
  {
   "cell_type": "code",
   "execution_count": 13,
   "id": "eaa47a07",
   "metadata": {},
   "outputs": [
    {
     "data": {
      "text/plain": [
       "<AxesSubplot:>"
      ]
     },
     "execution_count": 13,
     "metadata": {},
     "output_type": "execute_result"
    },
    {
     "data": {
      "image/png": "[encoded data removed]",
      "text/plain": [
       "<Figure size 432x288 with 1 Axes>"
      ]
     },
     "metadata": {
      "needs_background": "light"
     },
     "output_type": "display_data"
    }
   ],
   "source": [
    "vg.Publisher.value_counts().head(10).plot.bar(cmap=\"cool\")"
   ]
  },
  {
   "cell_type": "markdown",
   "id": "6ad9926e",
   "metadata": {},
   "source": [
    " # which are the top playing games games platforms"
   ]
  },
  {
   "cell_type": "code",
   "execution_count": 14,
   "id": "f4a829dc",
   "metadata": {},
   "outputs": [
    {
     "data": {
      "text/plain": [
       "<AxesSubplot:>"
      ]
     },
     "execution_count": 14,
     "metadata": {},
     "output_type": "execute_result"
    },
    {
     "data": {
      "image/png": "[encoded data removed]",
      "text/plain": [
       "<Figure size 432x288 with 1 Axes>"
      ]
     },
     "metadata": {
      "needs_background": "light"
     },
     "output_type": "display_data"
    }
   ],
   "source": [
    "vg[\"Platform\"].value_counts().sort_values().plot(cmap=\"rainbow\")"
   ]
  },
  {
   "cell_type": "markdown",
   "id": "578321a1",
   "metadata": {},
   "source": [
    "# modeling "
   ]
  },
  {
   "cell_type": "code",
   "execution_count": 15,
   "id": "6fe51b1b",
   "metadata": {},
   "outputs": [],
   "source": [
    "from sklearn. linear_model import LinearRegression\n",
    "from sklearn.model_selection import *\n",
    "from sklearn.metrics import *\n",
    "from sklearn.preprocessing import PolynomialFeatures\n",
    "from sklearn.neighbors import KNeighborsRegressor\n",
    "from sklearn.tree import DecisionTreeRegressor\n",
    "from sklearn.ensemble import RandomForestRegressor\n",
    "from sklearn.metrics import accuracy_score\n",
    "from sklearn.neighbors import KNeighborsClassifier\n",
    "from sklearn.model_selection import train_test_split"
   ]
  },
  {
   "cell_type": "code",
   "execution_count": 16,
   "id": "2efc1073",
   "metadata": {},
   "outputs": [],
   "source": [
    "from sklearn.preprocessing import LabelEncoder\n",
    "data = vg.copy()\n",
    "le = LabelEncoder()\n",
    "feature = ['Platform', 'Genre', \"Year\", \"Publisher\", 'NA_Sales', 'EU_Sales', 'JP_Sales', 'Other_Sales' ]\n",
    "for col in feature:\n",
    "    data[col] = le.fit_transform(vg[col])"
   ]
  },
  {
   "cell_type": "markdown",
   "id": "654a27ad",
   "metadata": {},
   "source": [
    "# MODELING FOR NA_SALES"
   ]
  },
  {
   "cell_type": "code",
   "execution_count": 17,
   "id": "6a27cf69",
   "metadata": {},
   "outputs": [],
   "source": [
    "X = data[['Platform', 'Genre', \"Year\", \"Publisher\", 'EU_Sales', 'JP_Sales', 'Other_Sales']].values\n",
    "Y = data[ \"NA_Sales\"].values"
   ]
  },
  {
   "cell_type": "code",
   "execution_count": 18,
   "id": "c2d73542",
   "metadata": {},
   "outputs": [],
   "source": [
    "X_train, X_test, Y_train, Y_test = train_test_split(X, Y, test_size=0.20, random_state = 45)"
   ]
  },
  {
   "cell_type": "code",
   "execution_count": 19,
   "id": "94ff805b",
   "metadata": {},
   "outputs": [],
   "source": [
    "params = {\n",
    "\"fit_intercept\" : [True, False],\n",
    "\"normalize\": [True, False],\n",
    "}"
   ]
  },
  {
   "cell_type": "markdown",
   "id": "4206788d",
   "metadata": {},
   "source": [
    "## Multilinear regression\n"
   ]
  },
  {
   "cell_type": "code",
   "execution_count": 20,
   "id": "470a1fd9",
   "metadata": {},
   "outputs": [
    {
     "data": {
      "text/plain": [
       "{'fit_intercept': True, 'normalize': True}"
      ]
     },
     "execution_count": 20,
     "metadata": {},
     "output_type": "execute_result"
    }
   ],
   "source": [
    "model = LinearRegression()\n",
    "gc = GridSearchCV(model, params)\n",
    "gc = gc.fit(X_train, Y_train)\n",
    "gc.best_params_"
   ]
  },
  {
   "cell_type": "code",
   "execution_count": 21,
   "id": "753e6ac0",
   "metadata": {},
   "outputs": [
    {
     "name": "stdout",
     "output_type": "stream",
     "text": [
      "Mean squared error =  893.2989202383268\n",
      "R² = 61.66%\n"
     ]
    }
   ],
   "source": [
    "Y_pred = gc.predict(X_test)\n",
    "mse = mean_squared_error(Y_test, Y_pred)\n",
    "r2 = r2_score(Y_test, Y_pred)\n",
    "print(\"Mean squared error = \", mse)\n",
    "print(f\"R² = {r2*100:.2f}%\")"
   ]
  },
  {
   "cell_type": "markdown",
   "id": "471c84ab",
   "metadata": {},
   "source": [
    "## polynomial regression "
   ]
  },
  {
   "cell_type": "code",
   "execution_count": 22,
   "id": "61e33731",
   "metadata": {},
   "outputs": [
    {
     "data": {
      "text/plain": [
       "(13032, 120)"
      ]
     },
     "execution_count": 22,
     "metadata": {},
     "output_type": "execute_result"
    }
   ],
   "source": [
    "pol = PolynomialFeatures(degree = 3)\n",
    "X_train_pol = pol.fit_transform(X_train)\n",
    "X_test_pol=pol.fit_transform(X_test)\n",
    "X_train_pol.shape"
   ]
  },
  {
   "cell_type": "code",
   "execution_count": 23,
   "id": "802df040",
   "metadata": {},
   "outputs": [
    {
     "data": {
      "text/plain": [
       "{'fit_intercept': False, 'normalize': True}"
      ]
     },
     "execution_count": 23,
     "metadata": {},
     "output_type": "execute_result"
    }
   ],
   "source": [
    "model = LinearRegression()\n",
    "gc= GridSearchCV(model, params)\n",
    "gc= gc.fit(X_train_pol, Y_train)\n",
    "gc.best_params_"
   ]
  },
  {
   "cell_type": "code",
   "execution_count": 24,
   "id": "5b4a1cbc",
   "metadata": {},
   "outputs": [
    {
     "name": "stdout",
     "output_type": "stream",
     "text": [
      "Mean squared error = 552.4691860883228\n",
      "R2 = 76.29%\n"
     ]
    }
   ],
   "source": [
    "Y_pred_pol = gc.predict(X_test_pol)\n",
    "mse = mean_squared_error(Y_test, Y_pred_pol)\n",
    "r2 = r2_score(Y_test, Y_pred_pol)\n",
    "print(\"Mean squared error =\" , mse)\n",
    "print(f\"R2 = {r2*100:.2f}%\")\n"
   ]
  },
  {
   "cell_type": "markdown",
   "id": "e09842f7",
   "metadata": {},
   "source": [
    "## kneighbor"
   ]
  },
  {
   "cell_type": "code",
   "execution_count": 28,
   "id": "0d7b1e39",
   "metadata": {},
   "outputs": [],
   "source": [
    "KRange = range(1, 15,1)\n",
    "\n",
    "scores_list = []\n",
    "for i in KRange:\n",
    "    regressor_knn = KNeighborsRegressor(n_neighbors = i)\n",
    "    \n",
    "    regressor_knn.fit(X_train , Y_train)\n",
    "    pred= regressor_knn.predict(X_test)\n",
    "    \n",
    "    scores_list.append(r2_score(Y_test, pred))"
   ]
  },
  {
   "cell_type": "code",
   "execution_count": 31,
   "id": "a04d11f0",
   "metadata": {},
   "outputs": [
    {
     "name": "stdout",
     "output_type": "stream",
     "text": [
      "0.7377887654267045\n"
     ]
    }
   ],
   "source": [
    "regressor_knn = KNeighborsRegressor(n_neighbors = 7)\n",
    "regressor_knn.fit(X_train, Y_train)\n",
    "pred= regressor_knn.predict(X_test)\n",
    "\n",
    "r2_knn = r2_score(Y_test, pred)\n",
    "print(r2_knn)"
   ]
  },
  {
   "cell_type": "markdown",
   "id": "ee4fb5e7",
   "metadata": {},
   "source": [
    "## Decision Tree"
   ]
  },
  {
   "cell_type": "code",
   "execution_count": 35,
   "id": "c59ac355",
   "metadata": {},
   "outputs": [
    {
     "name": "stdout",
     "output_type": "stream",
     "text": [
      "0.7397644748419425\n"
     ]
    }
   ],
   "source": [
    "dtr = DecisionTreeRegressor(random_state= 31)\n",
    "dtr.fit(X_train, Y_train)\n",
    "\n",
    "pred = dtr.predict(X_test)\n",
    "print (r2_score(Y_test, pred))"
   ]
  },
  {
   "cell_type": "markdown",
   "id": "bf95e263",
   "metadata": {},
   "source": [
    "# kneigbor"
   ]
  },
  {
   "cell_type": "code",
   "execution_count": 42,
   "id": "01912bbc",
   "metadata": {},
   "outputs": [
    {
     "name": "stdout",
     "output_type": "stream",
     "text": [
      "0.8679097505288133\n"
     ]
    }
   ],
   "source": [
    "rfr = RandomForestRegressor(random_state= 10)\n",
    "rfr.fit(X_train, Y_train)\n",
    "\n",
    "\n",
    "\n",
    "\n",
    "\n",
    "pred = rfr.predict(X_test)\n",
    "print(r2_score(Y_test, pred))"
   ]
  },
  {
   "cell_type": "markdown",
   "id": "8c7b55af",
   "metadata": {},
   "source": [
    "# MODELING FOR EU_SALES"
   ]
  },
  {
   "cell_type": "code",
   "execution_count": 47,
   "id": "5c053aa9",
   "metadata": {},
   "outputs": [],
   "source": [
    "X = data[['Platform', 'Genre', \"Year\", \"Publisher\", 'NA_Sales', 'JP_Sales', 'Other_Sales']].values\n",
    "Y = data[ \"EU_Sales\"].values"
   ]
  },
  {
   "cell_type": "code",
   "execution_count": 48,
   "id": "a267d65c",
   "metadata": {},
   "outputs": [],
   "source": [
    "X_train, X_test, Y_train, Y_test = train_test_split(X, Y, test_size=0.20, random_state = 45)"
   ]
  },
  {
   "cell_type": "code",
   "execution_count": 49,
   "id": "8841eb5d",
   "metadata": {},
   "outputs": [],
   "source": [
    "params = {\n",
    "\"fit_intercept\" : [True, False],\n",
    "\"normalize\": [True, False],\n",
    "}"
   ]
  },
  {
   "cell_type": "markdown",
   "id": "026afcf0",
   "metadata": {},
   "source": [
    "## Multilinear regression\n"
   ]
  },
  {
   "cell_type": "code",
   "execution_count": 50,
   "id": "a8b7a4d4",
   "metadata": {},
   "outputs": [
    {
     "data": {
      "text/plain": [
       "{'fit_intercept': True, 'normalize': True}"
      ]
     },
     "execution_count": 50,
     "metadata": {},
     "output_type": "execute_result"
    }
   ],
   "source": [
    "model = LinearRegression()\n",
    "gc = GridSearchCV(model, params)\n",
    "gc = gc.fit(X_train, Y_train)\n",
    "gc.best_params_"
   ]
  },
  {
   "cell_type": "code",
   "execution_count": 51,
   "id": "94aff4ec",
   "metadata": {},
   "outputs": [
    {
     "name": "stdout",
     "output_type": "stream",
     "text": [
      "Mean squared error =  288.2725058843127\n",
      "R² = 73.05%\n"
     ]
    }
   ],
   "source": [
    "Y_pred = gc.predict(X_test)\n",
    "mse = mean_squared_error(Y_test, Y_pred)\n",
    "r2 = r2_score(Y_test, Y_pred)\n",
    "print(\"Mean squared error = \", mse)\n",
    "print(f\"R² = {r2*100:.2f}%\")"
   ]
  },
  {
   "cell_type": "markdown",
   "id": "1792a7bb",
   "metadata": {},
   "source": [
    "## polynomial regression "
   ]
  },
  {
   "cell_type": "code",
   "execution_count": 52,
   "id": "f3920598",
   "metadata": {},
   "outputs": [
    {
     "data": {
      "text/plain": [
       "(13032, 120)"
      ]
     },
     "execution_count": 52,
     "metadata": {},
     "output_type": "execute_result"
    }
   ],
   "source": [
    "pol = PolynomialFeatures(degree = 3)\n",
    "X_train_pol = pol.fit_transform(X_train)\n",
    "X_test_pol=pol.fit_transform(X_test)\n",
    "X_train_pol.shape"
   ]
  },
  {
   "cell_type": "code",
   "execution_count": 53,
   "id": "2e1420a3",
   "metadata": {},
   "outputs": [
    {
     "data": {
      "text/plain": [
       "{'fit_intercept': True, 'normalize': False}"
      ]
     },
     "execution_count": 53,
     "metadata": {},
     "output_type": "execute_result"
    }
   ],
   "source": [
    "model = LinearRegression()\n",
    "gc= GridSearchCV(model, params)\n",
    "gc= gc.fit(X_train_pol, Y_train)\n",
    "gc.best_params_"
   ]
  },
  {
   "cell_type": "code",
   "execution_count": 54,
   "id": "7dbc1847",
   "metadata": {},
   "outputs": [
    {
     "name": "stdout",
     "output_type": "stream",
     "text": [
      "Mean squared error = 227.0941011060909\n",
      "R2 = 78.77%\n"
     ]
    }
   ],
   "source": [
    "Y_pred_pol = gc.predict(X_test_pol)\n",
    "mse = mean_squared_error(Y_test, Y_pred_pol)\n",
    "r2 = r2_score(Y_test, Y_pred_pol)\n",
    "print(\"Mean squared error =\" , mse)\n",
    "print(f\"R2 = {r2*100:.2f}%\")\n"
   ]
  },
  {
   "cell_type": "markdown",
   "id": "f82d3629",
   "metadata": {},
   "source": [
    "## kneighbor"
   ]
  },
  {
   "cell_type": "code",
   "execution_count": 55,
   "id": "80d09afb",
   "metadata": {},
   "outputs": [],
   "source": [
    "KRange = range(1, 15,1)\n",
    "\n",
    "scores_list = []\n",
    "for i in KRange:\n",
    "    regressor_knn = KNeighborsRegressor(n_neighbors = i)\n",
    "    \n",
    "    regressor_knn.fit(X_train , Y_train)\n",
    "    pred= regressor_knn.predict(X_test)\n",
    "    \n",
    "    scores_list.append(r2_score(Y_test, pred))"
   ]
  },
  {
   "cell_type": "code",
   "execution_count": 56,
   "id": "f54aacb2",
   "metadata": {},
   "outputs": [
    {
     "name": "stdout",
     "output_type": "stream",
     "text": [
      "0.7726964890005873\n"
     ]
    }
   ],
   "source": [
    "regressor_knn = KNeighborsRegressor(n_neighbors = 7)\n",
    "regressor_knn.fit(X_train, Y_train)\n",
    "pred= regressor_knn.predict(X_test)\n",
    "\n",
    "r2_knn = r2_score(Y_test, pred)\n",
    "print(r2_knn)"
   ]
  },
  {
   "cell_type": "markdown",
   "id": "34f89a7f",
   "metadata": {},
   "source": [
    "## Decision Tree"
   ]
  },
  {
   "cell_type": "code",
   "execution_count": 57,
   "id": "314f7c0d",
   "metadata": {},
   "outputs": [
    {
     "name": "stdout",
     "output_type": "stream",
     "text": [
      "0.7862728726222145\n"
     ]
    }
   ],
   "source": [
    "dtr = DecisionTreeRegressor(random_state= 31)\n",
    "dtr.fit(X_train, Y_train)\n",
    "\n",
    "pred = dtr.predict(X_test)\n",
    "print (r2_score(Y_test, pred))"
   ]
  },
  {
   "cell_type": "markdown",
   "id": "74f45c42",
   "metadata": {},
   "source": [
    "# kneigbor"
   ]
  },
  {
   "cell_type": "code",
   "execution_count": 58,
   "id": "21ab7687",
   "metadata": {},
   "outputs": [
    {
     "name": "stdout",
     "output_type": "stream",
     "text": [
      "0.8628255997722742\n"
     ]
    }
   ],
   "source": [
    "rfr = RandomForestRegressor(random_state= 10)\n",
    "rfr.fit(X_train, Y_train)\n",
    "\n",
    "\n",
    "\n",
    "\n",
    "\n",
    "pred = rfr.predict(X_test)\n",
    "print(r2_score(Y_test, pred))"
   ]
  },
  {
   "cell_type": "markdown",
   "id": "84dc40c1",
   "metadata": {},
   "source": [
    "# MODELING FOR JP_SALES"
   ]
  },
  {
   "cell_type": "code",
   "execution_count": 63,
   "id": "c5360667",
   "metadata": {},
   "outputs": [],
   "source": [
    "X = data[['Platform', 'Genre', \"Year\", \"Publisher\", 'EU_Sales', 'NA_Sales', 'Other_Sales']].values\n",
    "Y = data[ \"JP_Sales\"].values"
   ]
  },
  {
   "cell_type": "code",
   "execution_count": 64,
   "id": "5c6c6fba",
   "metadata": {},
   "outputs": [],
   "source": [
    "X_train, X_test, Y_train, Y_test = train_test_split(X, Y, test_size=0.20, random_state = 45)"
   ]
  },
  {
   "cell_type": "code",
   "execution_count": 65,
   "id": "f3431190",
   "metadata": {},
   "outputs": [],
   "source": [
    "params = {\n",
    "\"fit_intercept\" : [True, False],\n",
    "\"normalize\": [True, False],\n",
    "}"
   ]
  },
  {
   "cell_type": "markdown",
   "id": "6f0ae1c3",
   "metadata": {},
   "source": [
    "## Multilinear regression\n"
   ]
  },
  {
   "cell_type": "code",
   "execution_count": 66,
   "id": "fbbedcb3",
   "metadata": {},
   "outputs": [
    {
     "data": {
      "text/plain": [
       "{'fit_intercept': True, 'normalize': True}"
      ]
     },
     "execution_count": 66,
     "metadata": {},
     "output_type": "execute_result"
    }
   ],
   "source": [
    "model = LinearRegression()\n",
    "gc = GridSearchCV(model, params)\n",
    "gc = gc.fit(X_train, Y_train)\n",
    "gc.best_params_"
   ]
  },
  {
   "cell_type": "code",
   "execution_count": 67,
   "id": "522a9161",
   "metadata": {},
   "outputs": [
    {
     "name": "stdout",
     "output_type": "stream",
     "text": [
      "Mean squared error =  385.282912347257\n",
      "R² = 15.99%\n"
     ]
    }
   ],
   "source": [
    "Y_pred = gc.predict(X_test)\n",
    "mse = mean_squared_error(Y_test, Y_pred)\n",
    "r2 = r2_score(Y_test, Y_pred)\n",
    "print(\"Mean squared error = \", mse)\n",
    "print(f\"R² = {r2*100:.2f}%\")"
   ]
  },
  {
   "cell_type": "markdown",
   "id": "e0c21502",
   "metadata": {},
   "source": [
    "## polynomial regression "
   ]
  },
  {
   "cell_type": "code",
   "execution_count": 68,
   "id": "f3920598",
   "metadata": {},
   "outputs": [
    {
     "data": {
      "text/plain": [
       "(13032, 120)"
      ]
     },
     "execution_count": 68,
     "metadata": {},
     "output_type": "execute_result"
    }
   ],
   "source": [
    "pol = PolynomialFeatures(degree = 3)\n",
    "X_train_pol = pol.fit_transform(X_train)\n",
    "X_test_pol=pol.fit_transform(X_test)\n",
    "X_train_pol.shape"
   ]
  },
  {
   "cell_type": "code",
   "execution_count": 69,
   "id": "2e1420a3",
   "metadata": {},
   "outputs": [
    {
     "data": {
      "text/plain": [
       "{'fit_intercept': False, 'normalize': True}"
      ]
     },
     "execution_count": 69,
     "metadata": {},
     "output_type": "execute_result"
    }
   ],
   "source": [
    "model = LinearRegression()\n",
    "gc= GridSearchCV(model, params)\n",
    "gc= gc.fit(X_train_pol, Y_train)\n",
    "gc.best_params_"
   ]
  },
  {
   "cell_type": "code",
   "execution_count": 70,
   "id": "7dbc1847",
   "metadata": {},
   "outputs": [
    {
     "name": "stdout",
     "output_type": "stream",
     "text": [
      "Mean squared error = 283.63110043190454\n",
      "R2 = 38.16%\n"
     ]
    }
   ],
   "source": [
    "Y_pred_pol = gc.predict(X_test_pol)\n",
    "mse = mean_squared_error(Y_test, Y_pred_pol)\n",
    "r2 = r2_score(Y_test, Y_pred_pol)\n",
    "print(\"Mean squared error =\" , mse)\n",
    "print(f\"R2 = {r2*100:.2f}%\")\n"
   ]
  },
  {
   "cell_type": "markdown",
   "id": "f82d3629",
   "metadata": {},
   "source": [
    "## kneighbor"
   ]
  },
  {
   "cell_type": "code",
   "execution_count": 71,
   "id": "80d09afb",
   "metadata": {},
   "outputs": [],
   "source": [
    "KRange = range(1, 15,1)\n",
    "\n",
    "scores_list = []\n",
    "for i in KRange:\n",
    "    regressor_knn = KNeighborsRegressor(n_neighbors = i)\n",
    "    \n",
    "    regressor_knn.fit(X_train , Y_train)\n",
    "    pred= regressor_knn.predict(X_test)\n",
    "    \n",
    "    scores_list.append(r2_score(Y_test, pred))"
   ]
  },
  {
   "cell_type": "code",
   "execution_count": 72,
   "id": "f54aacb2",
   "metadata": {},
   "outputs": [
    {
     "name": "stdout",
     "output_type": "stream",
     "text": [
      "0.4664597478828796\n"
     ]
    }
   ],
   "source": [
    "regressor_knn = KNeighborsRegressor(n_neighbors = 7)\n",
    "regressor_knn.fit(X_train, Y_train)\n",
    "pred= regressor_knn.predict(X_test)\n",
    "\n",
    "r2_knn = r2_score(Y_test, pred)\n",
    "print(r2_knn)"
   ]
  },
  {
   "cell_type": "markdown",
   "id": "34f89a7f",
   "metadata": {},
   "source": [
    "## Decision Tree"
   ]
  },
  {
   "cell_type": "code",
   "execution_count": 73,
   "id": "314f7c0d",
   "metadata": {},
   "outputs": [
    {
     "name": "stdout",
     "output_type": "stream",
     "text": [
      "0.2706885280822733\n"
     ]
    }
   ],
   "source": [
    "dtr = DecisionTreeRegressor(random_state= 31)\n",
    "dtr.fit(X_train, Y_train)\n",
    "\n",
    "pred = dtr.predict(X_test)\n",
    "print (r2_score(Y_test, pred))"
   ]
  },
  {
   "cell_type": "markdown",
   "id": "bf95e263",
   "metadata": {},
   "source": [
    "# kneigbor"
   ]
  },
  {
   "cell_type": "code",
   "execution_count": 74,
   "id": "01912bbc",
   "metadata": {},
   "outputs": [
    {
     "name": "stdout",
     "output_type": "stream",
     "text": [
      "0.5740148853440408\n"
     ]
    }
   ],
   "source": [
    "rfr = RandomForestRegressor(random_state= 10)\n",
    "rfr.fit(X_train, Y_train)\n",
    "\n",
    "\n",
    "\n",
    "\n",
    "\n",
    "pred = rfr.predict(X_test)\n",
    "print(r2_score(Y_test, pred))"
   ]
  }
 ],
 "metadata": {
  "kernelspec": {
   "display_name": "Python 3",
   "language": "python",
   "name": "python3"
  },
  "language_info": {
   "codemirror_mode": {
    "name": "ipython",
    "version": 3
   },
   "file_extension": ".py",
   "mimetype": "text/x-python",
   "name": "python",
   "nbconvert_exporter": "python",
   "pygments_lexer": "ipython3",
   "version": "3.8.8"
  }
 },
 "nbformat": 4,
 "nbformat_minor": 5
}
